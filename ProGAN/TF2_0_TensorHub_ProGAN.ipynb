{
  "nbformat": 4,
  "nbformat_minor": 0,
  "metadata": {
    "colab": {
      "name": "TF2.0_TensorHub_ProGAN.ipynb",
      "private_outputs": true,
      "provenance": [],
      "collapsed_sections": [],
      "authorship_tag": "ABX9TyOL+knz0KJ9iAYUsmQ8ZOKn",
      "include_colab_link": true
    },
    "kernelspec": {
      "name": "python3",
      "display_name": "Python 3"
    },
    "language_info": {
      "name": "python"
    },
    "accelerator": "GPU"
  },
  "cells": [
    {
      "cell_type": "markdown",
      "metadata": {
        "id": "view-in-github",
        "colab_type": "text"
      },
      "source": [
        "<a href=\"https://colab.research.google.com/github/JHyunjun/TF2.0_Generative-Adversarial-Network/blob/main/TF2_0_TensorHub_ProGAN.ipynb\" target=\"_parent\"><img src=\"https://colab.research.google.com/assets/colab-badge.svg\" alt=\"Open In Colab\"/></a>"
      ]
    },
    {
      "cell_type": "code",
      "execution_count": null,
      "metadata": {
        "id": "a_wd_sX8JnLU"
      },
      "outputs": [],
      "source": [
        "#importing\n",
        "import matplotlib.pyplot as plt\n",
        "import tensorflow as tf\n",
        "import tensorflow_hub as hub"
      ]
    },
    {
      "cell_type": "code",
      "source": [
        "#Tensorhub \n",
        "progan = hub.KerasLayer(\"https://tfhub.dev/google/progan-128/1\")\n",
        "latent_dimension = 512 #Default\n",
        "\n",
        "latent_vector = tf.random.normal([1, latent_dimension], seed = 7)\n",
        "\n",
        "images = progan(latent_vector)"
      ],
      "metadata": {
        "id": "T2sd2kiLJw5l"
      },
      "execution_count": null,
      "outputs": []
    },
    {
      "cell_type": "code",
      "source": [
        "#plotting\n",
        "print(images.shape,images)\n",
        "plt.imshow(images.numpy().reshape(128,128,3))\n",
        "plt.show()"
      ],
      "metadata": {
        "id": "4PSOPiXkKFX-"
      },
      "execution_count": null,
      "outputs": []
    }
  ]
}
