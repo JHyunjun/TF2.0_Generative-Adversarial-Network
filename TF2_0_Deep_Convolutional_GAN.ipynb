{
  "nbformat": 4,
  "nbformat_minor": 0,
  "metadata": {
    "colab": {
      "name": "TF2.0_Deep Convolutional GAN.ipynb",
      "private_outputs": true,
      "provenance": [],
      "collapsed_sections": [],
      "authorship_tag": "ABX9TyOveXmirGwyitYV+HBgb1cy",
      "include_colab_link": true
    },
    "kernelspec": {
      "name": "python3",
      "display_name": "Python 3"
    },
    "language_info": {
      "name": "python"
    },
    "accelerator": "GPU"
  },
  "cells": [
    {
      "cell_type": "markdown",
      "metadata": {
        "id": "view-in-github",
        "colab_type": "text"
      },
      "source": [
        "<a href=\"https://colab.research.google.com/github/JHyunjun/TF2.0_Generative-Adversarial-Network/blob/main/TF2_0_Deep_Convolutional_GAN.ipynb\" target=\"_parent\"><img src=\"https://colab.research.google.com/assets/colab-badge.svg\" alt=\"Open In Colab\"/></a>"
      ]
    },
    {
      "cell_type": "code",
      "execution_count": null,
      "metadata": {
        "id": "zW0k3zEtUzsB"
      },
      "outputs": [],
      "source": [
        "import matplotlib.pyplot as plt\n",
        "import numpy as np\n",
        "\n",
        "from tensorflow.keras.datasets import mnist\n",
        "from tensorflow.keras.layers import Activation, BatchNormalization, Dropout, Dense, Flatten, Reshape\n",
        "from tensorflow.keras.layers import LeakyReLU\n",
        "from tensorflow.keras.layers import Conv2D, Conv2DTranspose\n",
        "from tensorflow.keras.models import Sequential\n",
        "from tensorflow.keras.optimizers import Adam\n"
      ]
    },
    {
      "cell_type": "code",
      "source": [
        "img_rows = 28\n",
        "img_cols = 28\n",
        "channels = 1\n",
        "\n",
        "img_shape = (img_rows, img_cols, channels) #1차원 흑백이미지 28x28\n",
        "z_dim = 100 # Latent space \n"
      ],
      "metadata": {
        "id": "OOEO8seNXuh5"
      },
      "execution_count": null,
      "outputs": []
    },
    {
      "cell_type": "code",
      "source": [
        "#Designing Generator\n",
        "\n",
        "def build_generator(z_dim) : \n",
        "  model = Sequential()\n",
        "  model.add(Dense(512*7*7, input_dim = z_dim))\n",
        "  model.add(Reshape((7,7,512)))\n",
        "\n",
        "  model.add(Conv2DTranspose(128, kernel_size = 3, strides = 2, padding = 'same'))\n",
        "  model.add(BatchNormalization())\n",
        "  model.add(LeakyReLU(alpha = 0.02))\n",
        "  model.add(Conv2DTranspose(64, kernel_size = 3, strides = 1, padding = 'same'))\n",
        "  model.add(BatchNormalization())\n",
        "  model.add(LeakyReLU(alpha = 0.02))\n",
        "  model.add(Conv2DTranspose(1, kernel_size = 3, strides = 2, padding = 'same'))\n",
        "  model.add(Activation('tanh'))\n",
        "\n",
        "  return model"
      ],
      "metadata": {
        "id": "5-5YL9o9X6Ia"
      },
      "execution_count": null,
      "outputs": []
    },
    {
      "cell_type": "code",
      "source": [
        "#Designing Discriminator\n",
        "\n",
        "def build_discriminator(img_shape) : \n",
        "  model = Sequential()\n",
        "  model.add(Conv2D(32, kernel_size = 3, strides = 2, input_shape = img_shape, padding = 'same'))\n",
        "  model.add(LeakyReLU(alpha = 0.02))\n",
        "  model.add(Conv2D(64, kernel_size = 3, strides = 2, padding = 'same'))\n",
        "  model.add(LeakyReLU(alpha = 0.02))\n",
        "  model.add(Conv2D(128, kernel_size = 3, strides = 2, padding = 'same'))\n",
        "  model.add(LeakyReLU(alpha = 0.02))\n",
        "  model.add(Flatten())\n",
        "  model.add(Dense(1, activation = 'sigmoid'))\n",
        "\n",
        "  return model"
      ],
      "metadata": {
        "id": "ipltNn49ZRtj"
      },
      "execution_count": null,
      "outputs": []
    },
    {
      "cell_type": "code",
      "source": [
        "def build_gan(generator, discriminator) : \n",
        "  model = Sequential()\n",
        "  model.add(generator)\n",
        "  model.add(discriminator)\n",
        "\n",
        "  return model"
      ],
      "metadata": {
        "id": "CH4rh2StaEpg"
      },
      "execution_count": null,
      "outputs": []
    },
    {
      "cell_type": "code",
      "source": [
        "discriminator = build_discriminator(img_shape)\n",
        "discriminator.compile(loss = 'binary_crossentropy', optimizer=Adam(), metrics=['accuracy'])\n",
        "\n",
        "generator = build_generator(z_dim)\n",
        "discriminator.trainable = False\n",
        "\n",
        "gan = build_gan(generator, discriminator)\n",
        "gan.compile(loss = 'binary_crossentropy', optimizer = Adam())"
      ],
      "metadata": {
        "id": "ezFsljybaJRZ"
      },
      "execution_count": null,
      "outputs": []
    },
    {
      "cell_type": "code",
      "source": [
        "losses = []\n",
        "accuracies = []\n",
        "iteration_checkpoints = []\n",
        "\n",
        "\n",
        "def train(iterations, batch_size, sample_interval):\n",
        "\n",
        "    (X_train, _), (_, _) = mnist.load_data()\n",
        "    X_train = X_train / 127.5 - 1.0\n",
        "    X_train = np.expand_dims(X_train, axis=3)\n",
        "\n",
        "    real = np.ones((batch_size, 1))\n",
        "\n",
        "    fake = np.zeros((batch_size, 1))\n",
        "\n",
        "    for iteration in range(iterations):\n",
        "\n",
        "        idx = np.random.randint(0, X_train.shape[0], batch_size)\n",
        "        imgs = X_train[idx]\n",
        "\n",
        "        z = np.random.normal(0, 1, (batch_size, 100))\n",
        "        gen_imgs = generator.predict(z)\n",
        "\n",
        "        d_loss_real = discriminator.train_on_batch(imgs, real) #Batch갯수 전체에 대해 각각 1/0으로 Output나오는걸로 학습\n",
        "        d_loss_fake = discriminator.train_on_batch(gen_imgs, fake)#Random Gen한건 0으로 인식하도록 Discriminator 학습\n",
        "        d_loss, accuracy = 0.5 * np.add(d_loss_real, d_loss_fake)\n",
        "\n",
        "        z = np.random.normal(0, 1, (batch_size, 100))\n",
        "        gen_imgs = generator.predict(z) #Noise image (Basic Latent Space)\n",
        "\n",
        "        g_loss = gan.train_on_batch(z, real) #latent space로 Gen한것을 Real로 인식하도록 Generator 학습\n",
        "\n",
        "        if (iteration + 1) % sample_interval == 0:\n",
        "\n",
        "            # 훈련이 끝난 후 그래프를 그리기 위해 손실과 정확도 저장\n",
        "            losses.append((d_loss, g_loss))\n",
        "            accuracies.append(100.0 * accuracy)\n",
        "            iteration_checkpoints.append(iteration + 1)\n",
        "\n",
        "            # 훈련 과정 출력\n",
        "            print(\"%d [Discriminator Loss: %f, Accuracy: %.2f%%] [Generator Loss: %f]\" %\n",
        "                  (iteration + 1, d_loss, 100.0 * accuracy, g_loss))\n",
        "\n",
        "            # 생성된 이미지 샘플 출력\n",
        "            sample_images(generator)"
      ],
      "metadata": {
        "id": "aHmCwmvHangQ"
      },
      "execution_count": null,
      "outputs": []
    },
    {
      "cell_type": "code",
      "source": [
        "def sample_images(generator, image_grid_rows=4, image_grid_columns=4):\n",
        "\n",
        "    # 랜덤한 잡음 샘플링\n",
        "    z = np.random.normal(0, 1, (image_grid_rows * image_grid_columns, z_dim))\n",
        "\n",
        "    # 랜덤한 잡음에서 이미지 생성하기\n",
        "    gen_imgs = generator.predict(z)\n",
        "\n",
        "    # 이미지 픽셀 값을 [0, 1] 사이로 스케일 조정\n",
        "    gen_imgs = 0.5 * gen_imgs + 0.5\n",
        "\n",
        "    # 이미지 그리드 설정\n",
        "    fig, axs = plt.subplots(image_grid_rows,\n",
        "                            image_grid_columns,\n",
        "                            figsize=(4, 4),\n",
        "                            sharey=True,\n",
        "                            sharex=True)\n",
        "\n",
        "    cnt = 0\n",
        "    for i in range(image_grid_rows):\n",
        "        for j in range(image_grid_columns):\n",
        "            # 이미지 그리드 출력\n",
        "            axs[i, j].imshow(gen_imgs[cnt, :, :, 0], cmap='gray')\n",
        "            axs[i, j].axis('off')\n",
        "            cnt += 1"
      ],
      "metadata": {
        "id": "p89auOVJastP"
      },
      "execution_count": null,
      "outputs": []
    },
    {
      "cell_type": "code",
      "source": [
        "# 하이퍼파라미터 설정\n",
        "iterations = 20000\n",
        "batch_size = 128\n",
        "sample_interval = 1000\n",
        "\n",
        "# 지정된 반복 횟수만큼 GAN 훈련\n",
        "train(iterations, batch_size, sample_interval)"
      ],
      "metadata": {
        "id": "uENFZwk4ayRv"
      },
      "execution_count": null,
      "outputs": []
    }
  ]
}